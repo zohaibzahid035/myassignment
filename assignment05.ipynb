{
 "cells": [
  {
   "cell_type": "code",
   "execution_count": 36,
   "metadata": {},
   "outputs": [
    {
     "name": "stdout",
     "output_type": "stream",
     "text": [
      "please enter your number for factorial12\n",
      "Factorial of 12 is 1\n",
      "Factorial of 12 is 2\n",
      "Factorial of 12 is 6\n",
      "Factorial of 12 is 24\n",
      "Factorial of 12 is 120\n",
      "Factorial of 12 is 720\n",
      "Factorial of 12 is 5040\n",
      "Factorial of 12 is 40320\n",
      "Factorial of 12 is 362880\n",
      "Factorial of 12 is 3628800\n",
      "Factorial of 12 is 39916800\n",
      "Factorial of 12 is 479001600\n"
     ]
    }
   ],
   "source": [
    "#Question 1 calculate the factorial of a number\n",
    "num =input(\"please enter your number for factorial\")\n",
    "num=int(num)\n",
    "def factorial(num):\n",
    "    f=1\n",
    "    if num<1:\n",
    "        print(\"please enter number greater than 1\")\n",
    "    elif num>=1:\n",
    "        for i in range(1,num+1):\n",
    "            f=f*i;\n",
    "            print(\"Factorial of\", num , \"is\", f)\n",
    "    else:\n",
    "        print(\"invalid value entered\")\n",
    "factorial(num);"
   ]
  },
  {
   "cell_type": "code",
   "execution_count": 38,
   "metadata": {},
   "outputs": [
    {
     "name": "stdout",
     "output_type": "stream",
     "text": [
      "Enter String:QQQQQQQQQQQQQQQ WWwwwwwwww\n",
      "Upper case 17\n",
      "Lower case 8\n"
     ]
    }
   ],
   "source": [
    "#Question 2  calculate the number of upper case letters and lower case letters.\n",
    "def Count(stns):\n",
    "    upper=0;\n",
    "    lower=0;\n",
    "    for i in stns:\n",
    "        if i>=\"A\" and i<=\"Z\":\n",
    "            upper +=1;\n",
    "        elif i>=\"a\" and i<=\"z\":\n",
    "            lower +=1;\n",
    "    print(\"Upper case\",upper);\n",
    "    print(\"Lower case\", lower);\n",
    "\n",
    "stns = input(\"Enter String:\");\n",
    "Count(stns);\n"
   ]
  },
  {
   "cell_type": "code",
   "execution_count": 39,
   "metadata": {},
   "outputs": [
    {
     "name": "stdout",
     "output_type": "stream",
     "text": [
      "22  \n",
      "4  \n",
      "44  \n",
      "32  \n",
      "66  \n"
     ]
    }
   ],
   "source": [
    "#Question 3 function to print the even numbers from a given list.\n",
    "list1 = [22, 4, 45, 44, 32, 66] \n",
    "for num in list1: \n",
    "    if num % 2 == 0: \n",
    "        print(num, \" \") \n"
   ]
  },
  {
   "cell_type": "code",
   "execution_count": 48,
   "metadata": {},
   "outputs": [
    {
     "name": "stdout",
     "output_type": "stream",
     "text": [
      "enter a string to check it is palindrome or not:anna\n",
      "string is a palindrome\n"
     ]
    }
   ],
   "source": [
    "#Question 4 function that checks whether a passed string is palindrome or not.\n",
    "def checkstring(string):\n",
    "    if(string==string[::-1]):\n",
    "        print(\"string is a palindrome\")\n",
    "    else:\n",
    "        print(\"string is not a palindrome\")\n",
    "string= input(\"enter a string to check it is palindrome or not:\");\n",
    "checkstring(string)"
   ]
  },
  {
   "cell_type": "code",
   "execution_count": 47,
   "metadata": {},
   "outputs": [
    {
     "name": "stdout",
     "output_type": "stream",
     "text": [
      "Enter num to check it is prime or not: 59\n",
      "59 is a prime number \n"
     ]
    }
   ],
   "source": [
    "#Question 5 function that takes a number as a parameter and check the number is prime or not.\n",
    "num = int(input(\"Enter num to check it is prime or not: \"));\n",
    "def check(num):\n",
    "    if num>1:\n",
    "        for i in range(2,num//2):\n",
    "            if(num % i)==0:\n",
    "                print(num, \" is not a prime number\");\n",
    "                break;\n",
    "            else:\n",
    "                print(num, \"is a prime number \");\n",
    "                break;\n",
    "    else:\n",
    "        print(num, \"please enter a positive integer\");\n",
    "\n",
    "check(num);\n"
   ]
  },
  {
   "cell_type": "code",
   "execution_count": 46,
   "metadata": {},
   "outputs": [
    {
     "name": "stdout",
     "output_type": "stream",
     "text": [
      "Enter Shopping item [ enter 0 to abort]: bag\n",
      "Enter Shopping item [ enter 0 to abort]: bag\n",
      "Enter Shopping item [ enter 0 to abort]: check\n",
      "Enter Shopping item [ enter 0 to abort]: true\n",
      "Enter Shopping item [ enter 0 to abort]: false\n",
      "Enter Shopping item [ enter 0 to abort]: 0\n",
      "You purchased: bag\n",
      "You purchased: bag\n",
      "You purchased: check\n",
      "You purchased: true\n",
      "You purchased: false\n"
     ]
    }
   ],
   "source": [
    "#Question 6\n",
    "\n",
    "def shoppingList(*items):\n",
    "     shoppingItems = []\n",
    "     while True:\n",
    "         item = input(\"Enter Shopping item [ enter 0 to abort]: \")\n",
    "         if item != '0':\n",
    "             shoppingItems.append(item)\n",
    "         else:\n",
    "             break\n",
    "     for item in range(len(shoppingItems)):\n",
    "         print(\"You purchased: {}\".format(shoppingItems[item]))\n",
    "shoppingList()\n"
   ]
  },
  {
   "cell_type": "code",
   "execution_count": null,
   "metadata": {},
   "outputs": [],
   "source": []
  },
  {
   "cell_type": "code",
   "execution_count": null,
   "metadata": {},
   "outputs": [],
   "source": []
  }
 ],
 "metadata": {
  "kernelspec": {
   "display_name": "Python 3",
   "language": "python",
   "name": "python3"
  },
  "language_info": {
   "codemirror_mode": {
    "name": "ipython",
    "version": 3
   },
   "file_extension": ".py",
   "mimetype": "text/x-python",
   "name": "python",
   "nbconvert_exporter": "python",
   "pygments_lexer": "ipython3",
   "version": "3.7.4"
  }
 },
 "nbformat": 4,
 "nbformat_minor": 2
}
