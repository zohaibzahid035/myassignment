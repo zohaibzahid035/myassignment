{
 "cells": [
  {
   "cell_type": "code",
   "execution_count": 65,
   "metadata": {
    "scrolled": true
   },
   "outputs": [
    {
     "name": "stdout",
     "output_type": "stream",
     "text": [
      "Twinkle, twinkle, little star, \n",
      "How I wonder what you are! \n",
      "Up above the world so high, \n",
      "Like a diamond in the sky. \n",
      "Twinkle, twinkle, little star, \n",
      "How I wonder what you are\n"
     ]
    }
   ],
   "source": [
    "# Question 1\n",
    "a = \"Twinkle, twinkle, little star, \"\n",
    "b = \"How I wonder what you are! \"\n",
    "c = \"Up above the world so high, \"\n",
    "d = \"Like a diamond in the sky. \"\n",
    "e = \"Twinkle, twinkle, little star, \"\n",
    "f = \"How I wonder what you are\"\n",
    "print(a)\n",
    "print(b)\n",
    "print(c)\n",
    "print(d)\n",
    "print(e)\n",
    "print(f)\n"
   ]
  },
  {
   "cell_type": "code",
   "execution_count": 66,
   "metadata": {
    "scrolled": true
   },
   "outputs": [
    {
     "name": "stdout",
     "output_type": "stream",
     "text": [
      "python version\n",
      "3.7.4 (default, Aug  9 2019, 18:34:13) [MSC v.1915 64 bit (AMD64)]\n",
      "version info\n",
      "sys.version_info(major=3, minor=7, micro=4, releaselevel='final', serial=0)\n"
     ]
    }
   ],
   "source": [
    "# Question 2\n",
    "import sys\n",
    "print(\"python version\")\n",
    "print(sys.version)\n",
    "print(\"version info\")\n",
    "print(sys.version_info)"
   ]
  },
  {
   "cell_type": "code",
   "execution_count": 67,
   "metadata": {},
   "outputs": [
    {
     "name": "stdout",
     "output_type": "stream",
     "text": [
      "now = 2019-11-04 18:43:51.988353\n",
      "date and time = 04/11/2019 18:43:51\n"
     ]
    }
   ],
   "source": [
    "# Question 3\n",
    "from datetime import datetime\n",
    "now = datetime.now()\n",
    " \n",
    "print(\"now =\", now)\n",
    "dt_string = now.strftime(\"%d/%m/%Y %H:%M:%S\")\n",
    "print(\"date and time =\", dt_string)"
   ]
  },
  {
   "cell_type": "code",
   "execution_count": null,
   "metadata": {},
   "outputs": [],
   "source": [
    "# Question 4\n",
    "import math\n",
    "r = float(input(\"enter radius of circle\"))\n",
    "area = math.pi * r * r\n",
    "\n",
    "print(\"area of circle is %.2f\" %area)\n",
    "\n"
   ]
  },
  {
   "cell_type": "code",
   "execution_count": null,
   "metadata": {},
   "outputs": [],
   "source": [
    "#Question 5\n",
    "\n",
    "a = input(\"enter your first name\")\n",
    "b = input(\"enter your last name\")\n",
    "print(b + \" \" + a)"
   ]
  },
  {
   "cell_type": "code",
   "execution_count": null,
   "metadata": {},
   "outputs": [],
   "source": [
    "# Question 6\n",
    "num1 = input(\"enter first number\")\n",
    "num2 = input(\"enter second number\")\n",
    "z = int(num1) + int(num2)\n",
    "print(\"the sum of num1 and num2 is %.2f \"%z)"
   ]
  }
 ],
 "metadata": {
  "kernelspec": {
   "display_name": "Python 3",
   "language": "python",
   "name": "python3"
  },
  "language_info": {
   "codemirror_mode": {
    "name": "ipython",
    "version": 3
   },
   "file_extension": ".py",
   "mimetype": "text/x-python",
   "name": "python",
   "nbconvert_exporter": "python",
   "pygments_lexer": "ipython3",
   "version": "3.7.4"
  }
 },
 "nbformat": 4,
 "nbformat_minor": 2
}
