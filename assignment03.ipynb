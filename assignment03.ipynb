{
 "cells": [
  {
   "cell_type": "code",
   "execution_count": 5,
   "metadata": {},
   "outputs": [
    {
     "name": "stdout",
     "output_type": "stream",
     "text": [
      "Enter your first number: 20\n",
      "Enter your second number:30\n",
      "Enter your desired operator-\n",
      "-10\n"
     ]
    }
   ],
   "source": [
    "#Question 1\n",
    "\n",
    "a = int(input(\"Enter your first number: \"))\n",
    "b = int( input(\"Enter your second number:\"))\n",
    "operator = input(\"Enter your desired operator\")\n",
    "\n",
    "if operator == \"*\":\n",
    "    print(a*b)\n",
    "    \n",
    "elif operator == '+':\n",
    "    print(a+b)\n",
    "\n",
    "elif operator == '-':\n",
    "    print(a-b)\n",
    "    \n",
    "elif operator == '/':\n",
    "    print(a/b)\n",
    "    \n",
    "elif operator == 'p':\n",
    "    print(a**b)\n"
   ]
  },
  {
   "cell_type": "code",
   "execution_count": 8,
   "metadata": {},
   "outputs": [
    {
     "name": "stdout",
     "output_type": "stream",
     "text": [
      "Numeric value found : 43\n",
      "Numeric value found : 11\n"
     ]
    }
   ],
   "source": [
    "#Question 2\n",
    "\n",
    "my_list = [\"book\", 43,\"table\", \"chair\", 11]\n",
    "for value in my_list:\n",
    "    if type(value) == int or type(value) == float:\n",
    "        print(f\"Numeric value found : {value}\")"
   ]
  },
  {
   "cell_type": "code",
   "execution_count": 9,
   "metadata": {},
   "outputs": [
    {
     "name": "stdout",
     "output_type": "stream",
     "text": [
      "{'firstName': 'zohaib', 'lastName': 'zahid'}\n",
      "{'firstName': 'zohaib', 'lastName': 'zahid', 'my': 'name'}\n"
     ]
    }
   ],
   "source": [
    "#Question 3\n",
    "\n",
    "dtio = {\"firstName\":\"zohaib\", \"lastName\":\"zahid\"}\n",
    "print(dtio)\n",
    "\n",
    "dtio.update({\"my\":\"name\"})\n",
    "print(dtio)"
   ]
  },
  {
   "cell_type": "code",
   "execution_count": 12,
   "metadata": {},
   "outputs": [
    {
     "name": "stdout",
     "output_type": "stream",
     "text": [
      "sum:  97\n"
     ]
    }
   ],
   "source": [
    "#Question 4\n",
    "\n",
    "def sumdic(dtio):\n",
    "        sum = 0\n",
    "        for i in dtio.values():\n",
    "            sum = sum + i\n",
    "        return sum\n",
    "\n",
    "ndtio = {0:32 ,\n",
    "         1:10,\n",
    "         2:55 }\n",
    "\n",
    "print(\"sum: \",sumdic(ndtio))"
   ]
  },
  {
   "cell_type": "code",
   "execution_count": 14,
   "metadata": {},
   "outputs": [
    {
     "name": "stdout",
     "output_type": "stream",
     "text": [
      "Duplicated 14\n",
      "Duplicated 14\n",
      "Duplicated 0.9\n",
      "Duplicated 0.9\n",
      "Duplicated hello\n",
      "Duplicated hello\n",
      "Duplicated 4\n",
      "Duplicated 4\n"
     ]
    }
   ],
   "source": [
    "#Question 5\n",
    "\n",
    "my_list = [14, 14, 0.9, 0.9,\"hello\", \"hello\", 2, 4, 4, 5, 6]\n",
    "for value in my_list:\n",
    "    if  my_list.count(value) > 1:\n",
    "        print(f\"Duplicated {value}\")"
   ]
  },
  {
   "cell_type": "code",
   "execution_count": 20,
   "metadata": {},
   "outputs": [
    {
     "name": "stdout",
     "output_type": "stream",
     "text": [
      "3 Already exists\n"
     ]
    }
   ],
   "source": [
    "#Question 6\n",
    "\n",
    "dic = {\n",
    "    1: 10,\n",
    "    2: 45,\n",
    "    3: 33,\n",
    "    4: 67,\n",
    "    5: 98,\n",
    "    6: 21}\n",
    "given_key = 3\n",
    "\n",
    "for key in dic.keys():\n",
    "    if key == given_key:\n",
    "        print(f\"{given_key} Already exists\")\n"
   ]
  },
  {
   "cell_type": "code",
   "execution_count": null,
   "metadata": {},
   "outputs": [],
   "source": []
  }
 ],
 "metadata": {
  "kernelspec": {
   "display_name": "Python 3",
   "language": "python",
   "name": "python3"
  },
  "language_info": {
   "codemirror_mode": {
    "name": "ipython",
    "version": 3
   },
   "file_extension": ".py",
   "mimetype": "text/x-python",
   "name": "python",
   "nbconvert_exporter": "python",
   "pygments_lexer": "ipython3",
   "version": "3.7.4"
  }
 },
 "nbformat": 4,
 "nbformat_minor": 2
}
