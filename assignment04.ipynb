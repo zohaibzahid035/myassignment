{
 "cells": [
  {
   "cell_type": "code",
   "execution_count": 1,
   "metadata": {},
   "outputs": [
    {
     "name": "stdout",
     "output_type": "stream",
     "text": [
      "{'first_name': 'zohaib ', 'last_name': 'zahid', 'age': 24, 'city': 'Gujrat'}\n",
      "{'first_name': 'zohaib ', 'last_name': 'zahid', 'age': 24, 'city': 'Gujrat', 'Qualification': 'BS IT UOG'}\n",
      "{'first_name': 'zohaib ', 'last_name': 'zahid', 'age': 24, 'city': 'Gujrat'}\n"
     ]
    }
   ],
   "source": [
    "#Question 1 \n",
    "\n",
    "myinfo = {\"first_name\":\"zohaib \",\"last_name\":\"zahid\",\"age\":24,\"city\":\"Gujrat\"}\n",
    "print(myinfo)\n",
    "myinfo[\"Qualification\"] = \"BS IT UOG\"\n",
    "print(myinfo)\n",
    "del myinfo[\"Qualification\"]\n",
    "print(myinfo)"
   ]
  },
  {
   "cell_type": "code",
   "execution_count": 2,
   "metadata": {},
   "outputs": [
    {
     "name": "stdout",
     "output_type": "stream",
     "text": [
      "karachi {'country': 'Pakistan', 'Population': '10 Million', 'fact': 'centre of all civilazations'}\n",
      "lahore {'country': 'Pakistan', 'Population': '5 million', 'fact': 'it has badshahi mosque'}\n",
      "sialkot {'country': 'Pakistan', 'Population': '1 million', 'fact': 'its sport goods are famous world wide'}\n"
     ]
    }
   ],
   "source": [
    "#Question 2\n",
    "\n",
    "city = {\"karachi\":{\"country\":\"Pakistan\",\"Population\":\"10 Million\",\"fact\":\"centre of all civilazations\"},\n",
    "        \"lahore\":{\"country\":\"Pakistan\",\"Population\":\"5 million\",'fact':\"it has badshahi mosque\"},\n",
    "       \"sialkot\":{\"country\":\"Pakistan\",\"Population\":\"1 million\",\"fact\":\"its sport goods are famous world wide\"}}\n",
    "for k,v in city.items():\n",
    "    print(k,v)"
   ]
  },
  {
   "cell_type": "code",
   "execution_count": 3,
   "metadata": {},
   "outputs": [
    {
     "name": "stdout",
     "output_type": "stream",
     "text": [
      "please enter your age13\n",
      "your ticket price is $15\n"
     ]
    }
   ],
   "source": [
    "#Question 3\n",
    "\n",
    "for i in range(3):\n",
    "    age = int(input(\"please enter your age\"))\n",
    "    if age <=3:\n",
    "        print(\"your ticket price is free\")\n",
    "        break\n",
    "    if age >3 and age <=12:\n",
    "        print(\"your ticket price is $10\")\n",
    "        break\n",
    "    if age > 12:\n",
    "        print(\"your ticket price is $15\")\n",
    "        break"
   ]
  },
  {
   "cell_type": "code",
   "execution_count": 5,
   "metadata": {},
   "outputs": [
    {
     "data": {
      "text/plain": [
       "('my favourite book is', ' Rich dad, Poor dad')"
      ]
     },
     "execution_count": 5,
     "metadata": {},
     "output_type": "execute_result"
    }
   ],
   "source": [
    "#Question 4\n",
    "\n",
    "def favourite_book(name):\n",
    "        return \"my favourite book is\",name\n",
    "favourite_book(' Rich dad, Poor dad')\n"
   ]
  },
  {
   "cell_type": "code",
   "execution_count": null,
   "metadata": {},
   "outputs": [],
   "source": [
    "#Question 5\n",
    "\n",
    "import random\n",
    "a=random.randint(1,30) #a is the hidden number\n",
    "print(\"================HINT================\")\n",
    "if a>= 1 and a < 10:\n",
    "    print(\"try a number between 1 and 10\")\n",
    "elif a >= 10 and a < 20:\n",
    "    print(\"try a number between 10 and 20\")\n",
    "elif a >= 20 and a < 30:\n",
    "    print(\"try a number between 20 and 30\")\n",
    "for i in range(0,3):\n",
    "    user = int(input(\"enter your guess: \"))\n",
    "    if user < 1 or user > 30:\n",
    "        print(\"choose a number between 1 and 30\")\n",
    "    else:\n",
    "        if user == a:\n",
    "            print(\"your guess is right\")\n",
    "            break\n",
    "        else:\n",
    "            print(\"your guess is wrong\")\n",
    "            print(\"============better luck next============\")"
   ]
  }
 ],
 "metadata": {
  "kernelspec": {
   "display_name": "Python 3",
   "language": "python",
   "name": "python3"
  },
  "language_info": {
   "codemirror_mode": {
    "name": "ipython",
    "version": 3
   },
   "file_extension": ".py",
   "mimetype": "text/x-python",
   "name": "python",
   "nbconvert_exporter": "python",
   "pygments_lexer": "ipython3",
   "version": "3.7.4"
  }
 },
 "nbformat": 4,
 "nbformat_minor": 2
}
