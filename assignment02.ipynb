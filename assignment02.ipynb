{
 "cells": [
  {
   "cell_type": "code",
   "execution_count": 17,
   "metadata": {},
   "outputs": [
    {
     "name": "stdout",
     "output_type": "stream",
     "text": [
      "Enter first subject marks87\n",
      "Enter second subject marks67\n",
      "Enter third subject marks88\n",
      "Enter fourth subject marks76\n",
      "Enter fifth subject marks89\n",
      "Average marks = 81.4\n",
      "grade B\n"
     ]
    }
   ],
   "source": [
    "# Question 1\n",
    "\n",
    "sub1 = int(input(\"Enter first subject marks\"))\n",
    "sub2 = int(input(\"Enter second subject marks\"))\n",
    "sub3 = int(input(\"Enter third subject marks\"))\n",
    "sub4 = int(input(\"Enter fourth subject marks\"))\n",
    "sub5 = int(input(\"Enter fifth subject marks\"))\n",
    "avg = (sub1+sub2+sub3+sub4+sub5)/5\n",
    "\n",
    "print(\"Average marks =\",avg)\n",
    "\n",
    "if avg>=90:\n",
    "    print(\"grade A\")\n",
    "elif avg>=80:\n",
    "    print(\"grade B\")\n",
    "elif avg>=70:\n",
    "    print(\"grade C\")    \n",
    "elif avg>=60:\n",
    "    print(\"grade D\") \n",
    "else:\n",
    "    print(\"fail\")"
   ]
  },
  {
   "cell_type": "code",
   "execution_count": 18,
   "metadata": {},
   "outputs": [
    {
     "name": "stdout",
     "output_type": "stream",
     "text": [
      "enter a number78\n",
      "even number\n"
     ]
    }
   ],
   "source": [
    "# Question 2\n",
    "\n",
    "x = int(input(\"enter a number\"))\n",
    "if x%2 == 0:\n",
    "    print(\"even number\")\n",
    "else:\n",
    "    print(\"odd number\")"
   ]
  },
  {
   "cell_type": "code",
   "execution_count": 19,
   "metadata": {},
   "outputs": [
    {
     "name": "stdout",
     "output_type": "stream",
     "text": [
      "6\n"
     ]
    }
   ],
   "source": [
    "# Question 03\n",
    "list=[12,13,12,6,34,45]\n",
    "print(len(list))"
   ]
  },
  {
   "cell_type": "code",
   "execution_count": 20,
   "metadata": {},
   "outputs": [
    {
     "name": "stdout",
     "output_type": "stream",
     "text": [
      "sum of list= 122\n"
     ]
    }
   ],
   "source": [
    "# Question 04\n",
    "list=[12,13,12,6,34,45]\n",
    "x=len(list)\n",
    "sum=0\n",
    "for i in range (x):\n",
    "    sum=sum+list[i]\n",
    "print(\"sum of list=\",sum)\n"
   ]
  },
  {
   "cell_type": "code",
   "execution_count": 21,
   "metadata": {},
   "outputs": [
    {
     "name": "stdout",
     "output_type": "stream",
     "text": [
      "212\n"
     ]
    }
   ],
   "source": [
    "# Question 05\n",
    "list=[212,13,12,6,34,45]\n",
    "print(max(list))"
   ]
  },
  {
   "cell_type": "code",
   "execution_count": 22,
   "metadata": {},
   "outputs": [
    {
     "name": "stdout",
     "output_type": "stream",
     "text": [
      "1\n",
      "1\n",
      "2\n",
      "3\n"
     ]
    }
   ],
   "source": [
    "# Qestion 06\n",
    "list=[1,1,2,3,5,8,13,21,34,55,89]\n",
    "x=len(list)\n",
    "for i in range(x):\n",
    "    if list[i]<5:\n",
    "        print(list[i])"
   ]
  }
 ],
 "metadata": {
  "kernelspec": {
   "display_name": "Python 3",
   "language": "python",
   "name": "python3"
  }
 },
 "nbformat": 4,
 "nbformat_minor": 2
}
